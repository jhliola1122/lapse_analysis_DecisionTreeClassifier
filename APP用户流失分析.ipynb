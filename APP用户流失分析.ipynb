{
 "cells": [
  {
   "cell_type": "code",
   "execution_count": 1,
   "id": "c9c71035",
   "metadata": {},
   "outputs": [],
   "source": [
    "import pandas as pd\n",
    "import seaborn as sns\n",
    "import matplotlib.pyplot as plt\n",
    "%matplotlib inline"
   ]
  },
  {
   "cell_type": "code",
   "execution_count": 13,
   "id": "da1a7c1f",
   "metadata": {},
   "outputs": [],
   "source": [
    "lapse = pd.read_csv('lapse_analysis.csv',index_col=0)"
   ]
  },
  {
   "cell_type": "code",
   "execution_count": 3,
   "id": "516c1dc7",
   "metadata": {},
   "outputs": [
    {
     "name": "stdout",
     "output_type": "stream",
     "text": [
      "<class 'pandas.core.frame.DataFrame'>\n",
      "Int64Index: 113361 entries, 1 to 113361\n",
      "Data columns (total 15 columns):\n",
      " #   Column            Non-Null Count   Dtype  \n",
      "---  ------            --------------   -----  \n",
      " 0   guid              113361 non-null  object \n",
      " 1   lapse_flag        113361 non-null  int64  \n",
      " 2   architecture      113361 non-null  int64  \n",
      " 3   sys_major         113361 non-null  int64  \n",
      " 4   sys_sp            113361 non-null  int64  \n",
      " 5   start_date_num    112104 non-null  float64\n",
      " 6   normal_start_num  112104 non-null  float64\n",
      " 7   last_start_date   112104 non-null  float64\n",
      " 8   first_start_date  112104 non-null  float64\n",
      " 9   user_start_num    112104 non-null  float64\n",
      " 10  func_detail_num   103794 non-null  float64\n",
      " 11  use_func_date     103794 non-null  float64\n",
      " 12  last_func_date    103794 non-null  float64\n",
      " 13  first_func_date   103794 non-null  float64\n",
      " 14  use_func_num      103794 non-null  float64\n",
      "dtypes: float64(10), int64(4), object(1)\n",
      "memory usage: 13.8+ MB\n"
     ]
    }
   ],
   "source": [
    "lapse.info()\n",
    "#发现有空值"
   ]
  },
  {
   "cell_type": "code",
   "execution_count": 14,
   "id": "f53098e3",
   "metadata": {},
   "outputs": [],
   "source": [
    "# 删除首次启动日期和首次使用日期变量下的空值\n",
    "lapse = lapse.dropna(subset=['first_start_date','first_func_date'])"
   ]
  },
  {
   "cell_type": "code",
   "execution_count": 15,
   "id": "d2a9ca51",
   "metadata": {},
   "outputs": [],
   "source": [
    "# 创建最近启动和最近使用变量(数据日期20201102)\n",
    "lapse['start_recency']=lapse['last_start_date']-20201102\n",
    "lapse['func_recency']=lapse['last_func_date']-20201102"
   ]
  },
  {
   "cell_type": "code",
   "execution_count": 6,
   "id": "a3792aef",
   "metadata": {},
   "outputs": [
    {
     "data": {
      "text/plain": [
       "0    0.681738\n",
       "1    0.318262\n",
       "Name: lapse_flag, dtype: float64"
      ]
     },
     "execution_count": 6,
     "metadata": {},
     "output_type": "execute_result"
    }
   ],
   "source": [
    "# 计算flag0和1的占比\n",
    "lapse.lapse_flag.value_counts(1)"
   ]
  },
  {
   "cell_type": "code",
   "execution_count": 7,
   "id": "1dde47e6",
   "metadata": {},
   "outputs": [
    {
     "data": {
      "text/html": [
       "<div>\n",
       "<style scoped>\n",
       "    .dataframe tbody tr th:only-of-type {\n",
       "        vertical-align: middle;\n",
       "    }\n",
       "\n",
       "    .dataframe tbody tr th {\n",
       "        vertical-align: top;\n",
       "    }\n",
       "\n",
       "    .dataframe thead th {\n",
       "        text-align: right;\n",
       "    }\n",
       "</style>\n",
       "<table border=\"1\" class=\"dataframe\">\n",
       "  <thead>\n",
       "    <tr style=\"text-align: right;\">\n",
       "      <th></th>\n",
       "      <th>lapse_flag</th>\n",
       "      <th>start_date_num</th>\n",
       "      <th>user_start_num</th>\n",
       "      <th>func_detail_num</th>\n",
       "      <th>use_func_num</th>\n",
       "      <th>start_recency</th>\n",
       "      <th>func_recency</th>\n",
       "    </tr>\n",
       "  </thead>\n",
       "  <tbody>\n",
       "    <tr>\n",
       "      <th>lapse_flag</th>\n",
       "      <td>1.000000</td>\n",
       "      <td>-0.703112</td>\n",
       "      <td>-0.139563</td>\n",
       "      <td>-0.266392</td>\n",
       "      <td>-0.119572</td>\n",
       "      <td>-0.723217</td>\n",
       "      <td>-0.515825</td>\n",
       "    </tr>\n",
       "    <tr>\n",
       "      <th>start_date_num</th>\n",
       "      <td>-0.703112</td>\n",
       "      <td>1.000000</td>\n",
       "      <td>0.203449</td>\n",
       "      <td>0.362559</td>\n",
       "      <td>0.174066</td>\n",
       "      <td>0.931237</td>\n",
       "      <td>0.680718</td>\n",
       "    </tr>\n",
       "    <tr>\n",
       "      <th>user_start_num</th>\n",
       "      <td>-0.139563</td>\n",
       "      <td>0.203449</td>\n",
       "      <td>1.000000</td>\n",
       "      <td>0.216747</td>\n",
       "      <td>0.218253</td>\n",
       "      <td>0.182749</td>\n",
       "      <td>0.166119</td>\n",
       "    </tr>\n",
       "    <tr>\n",
       "      <th>func_detail_num</th>\n",
       "      <td>-0.266392</td>\n",
       "      <td>0.362559</td>\n",
       "      <td>0.216747</td>\n",
       "      <td>1.000000</td>\n",
       "      <td>0.327825</td>\n",
       "      <td>0.343346</td>\n",
       "      <td>0.468689</td>\n",
       "    </tr>\n",
       "    <tr>\n",
       "      <th>use_func_num</th>\n",
       "      <td>-0.119572</td>\n",
       "      <td>0.174066</td>\n",
       "      <td>0.218253</td>\n",
       "      <td>0.327825</td>\n",
       "      <td>1.000000</td>\n",
       "      <td>0.155446</td>\n",
       "      <td>0.240634</td>\n",
       "    </tr>\n",
       "    <tr>\n",
       "      <th>start_recency</th>\n",
       "      <td>-0.723217</td>\n",
       "      <td>0.931237</td>\n",
       "      <td>0.182749</td>\n",
       "      <td>0.343346</td>\n",
       "      <td>0.155446</td>\n",
       "      <td>1.000000</td>\n",
       "      <td>0.706906</td>\n",
       "    </tr>\n",
       "    <tr>\n",
       "      <th>func_recency</th>\n",
       "      <td>-0.515825</td>\n",
       "      <td>0.680718</td>\n",
       "      <td>0.166119</td>\n",
       "      <td>0.468689</td>\n",
       "      <td>0.240634</td>\n",
       "      <td>0.706906</td>\n",
       "      <td>1.000000</td>\n",
       "    </tr>\n",
       "  </tbody>\n",
       "</table>\n",
       "</div>"
      ],
      "text/plain": [
       "                 lapse_flag  start_date_num  user_start_num  func_detail_num  \\\n",
       "lapse_flag         1.000000       -0.703112       -0.139563        -0.266392   \n",
       "start_date_num    -0.703112        1.000000        0.203449         0.362559   \n",
       "user_start_num    -0.139563        0.203449        1.000000         0.216747   \n",
       "func_detail_num   -0.266392        0.362559        0.216747         1.000000   \n",
       "use_func_num      -0.119572        0.174066        0.218253         0.327825   \n",
       "start_recency     -0.723217        0.931237        0.182749         0.343346   \n",
       "func_recency      -0.515825        0.680718        0.166119         0.468689   \n",
       "\n",
       "                 use_func_num  start_recency  func_recency  \n",
       "lapse_flag          -0.119572      -0.723217     -0.515825  \n",
       "start_date_num       0.174066       0.931237      0.680718  \n",
       "user_start_num       0.218253       0.182749      0.166119  \n",
       "func_detail_num      0.327825       0.343346      0.468689  \n",
       "use_func_num         1.000000       0.155446      0.240634  \n",
       "start_recency        0.155446       1.000000      0.706906  \n",
       "func_recency         0.240634       0.706906      1.000000  "
      ]
     },
     "execution_count": 7,
     "metadata": {},
     "output_type": "execute_result"
    }
   ],
   "source": [
    "# 计算各变量和流失flag的相关性\n",
    "lapse_sample=lapse[[\"lapse_flag\", \"start_date_num\", \"user_start_num\",\n",
    "                    \"func_detail_num\", \"use_func_num\",'start_recency',\n",
    "                    'func_recency']]\n",
    "lapse_sample.corr()"
   ]
  },
  {
   "cell_type": "code",
   "execution_count": 9,
   "id": "e3409bd0",
   "metadata": {},
   "outputs": [
    {
     "data": {
      "text/plain": [
       "<AxesSubplot:>"
      ]
     },
     "execution_count": 9,
     "metadata": {},
     "output_type": "execute_result"
    },
    {
     "data": {
      "image/png": "[encoded data removed]",
      "text/plain": [
       "<Figure size 432x288 with 2 Axes>"
      ]
     },
     "metadata": {
      "needs_background": "light"
     },
     "output_type": "display_data"
    }
   ],
   "source": [
    "# 相关性可视化\n",
    "sns.heatmap(lapse_sample.corr())"
   ]
  },
  {
   "cell_type": "markdown",
   "id": "f42ef42e",
   "metadata": {},
   "source": [
    "结果发现：\n",
    "<br>启动次数越多，越不可能流失\n",
    "<br>使用功能的次数越多，越不可能流失\n",
    "<br>最近启动的时间距离第一次时间越长，越不可能流失"
   ]
  },
  {
   "cell_type": "code",
   "execution_count": 10,
   "id": "4cd871f9",
   "metadata": {},
   "outputs": [],
   "source": [
    "# 用labelencoder对sys_major做处理\n",
    "# 导入LableEncoder模块\n",
    "from sklearn.preprocessing import LabelEncoder"
   ]
  },
  {
   "cell_type": "code",
   "execution_count": 16,
   "id": "b89d0362",
   "metadata": {},
   "outputs": [
    {
     "name": "stdout",
     "output_type": "stream",
     "text": [
      "<class 'pandas.core.frame.DataFrame'>\n",
      "Int64Index: 103333 entries, 2 to 113360\n",
      "Data columns (total 17 columns):\n",
      " #   Column            Non-Null Count   Dtype  \n",
      "---  ------            --------------   -----  \n",
      " 0   guid              103333 non-null  object \n",
      " 1   lapse_flag        103333 non-null  int64  \n",
      " 2   architecture      103333 non-null  int64  \n",
      " 3   sys_major         103333 non-null  int64  \n",
      " 4   sys_sp            103333 non-null  int64  \n",
      " 5   start_date_num    103333 non-null  float64\n",
      " 6   normal_start_num  103333 non-null  float64\n",
      " 7   last_start_date   103333 non-null  float64\n",
      " 8   first_start_date  103333 non-null  float64\n",
      " 9   user_start_num    103333 non-null  float64\n",
      " 10  func_detail_num   103333 non-null  float64\n",
      " 11  use_func_date     103333 non-null  float64\n",
      " 12  last_func_date    103333 non-null  float64\n",
      " 13  first_func_date   103333 non-null  float64\n",
      " 14  use_func_num      103333 non-null  float64\n",
      " 15  start_recency     103333 non-null  float64\n",
      " 16  func_recency      103333 non-null  float64\n",
      "dtypes: float64(12), int64(4), object(1)\n",
      "memory usage: 14.2+ MB\n"
     ]
    }
   ],
   "source": [
    "lapse.info()"
   ]
  },
  {
   "cell_type": "code",
   "execution_count": 17,
   "id": "9501a150",
   "metadata": {},
   "outputs": [
    {
     "data": {
      "text/html": [
       "<div>\n",
       "<style scoped>\n",
       "    .dataframe tbody tr th:only-of-type {\n",
       "        vertical-align: middle;\n",
       "    }\n",
       "\n",
       "    .dataframe tbody tr th {\n",
       "        vertical-align: top;\n",
       "    }\n",
       "\n",
       "    .dataframe thead th {\n",
       "        text-align: right;\n",
       "    }\n",
       "</style>\n",
       "<table border=\"1\" class=\"dataframe\">\n",
       "  <thead>\n",
       "    <tr style=\"text-align: right;\">\n",
       "      <th></th>\n",
       "      <th>guid</th>\n",
       "      <th>lapse_flag</th>\n",
       "      <th>architecture</th>\n",
       "      <th>sys_major</th>\n",
       "      <th>sys_sp</th>\n",
       "      <th>start_date_num</th>\n",
       "      <th>normal_start_num</th>\n",
       "      <th>last_start_date</th>\n",
       "      <th>first_start_date</th>\n",
       "      <th>user_start_num</th>\n",
       "      <th>func_detail_num</th>\n",
       "      <th>use_func_date</th>\n",
       "      <th>last_func_date</th>\n",
       "      <th>first_func_date</th>\n",
       "      <th>use_func_num</th>\n",
       "      <th>start_recency</th>\n",
       "      <th>func_recency</th>\n",
       "    </tr>\n",
       "  </thead>\n",
       "  <tbody>\n",
       "    <tr>\n",
       "      <th>2</th>\n",
       "      <td>ece6d70e8</td>\n",
       "      <td>0</td>\n",
       "      <td>9</td>\n",
       "      <td>6</td>\n",
       "      <td>1</td>\n",
       "      <td>5.0</td>\n",
       "      <td>22.0</td>\n",
       "      <td>20201106.0</td>\n",
       "      <td>20201102.0</td>\n",
       "      <td>26.0</td>\n",
       "      <td>11.0</td>\n",
       "      <td>4.0</td>\n",
       "      <td>20201105.0</td>\n",
       "      <td>20201102.0</td>\n",
       "      <td>31.0</td>\n",
       "      <td>4.0</td>\n",
       "      <td>3.0</td>\n",
       "    </tr>\n",
       "    <tr>\n",
       "      <th>3</th>\n",
       "      <td>45dd78247</td>\n",
       "      <td>0</td>\n",
       "      <td>9</td>\n",
       "      <td>10</td>\n",
       "      <td>0</td>\n",
       "      <td>5.0</td>\n",
       "      <td>5.0</td>\n",
       "      <td>20201106.0</td>\n",
       "      <td>20201102.0</td>\n",
       "      <td>13.0</td>\n",
       "      <td>6.0</td>\n",
       "      <td>2.0</td>\n",
       "      <td>20201103.0</td>\n",
       "      <td>20201102.0</td>\n",
       "      <td>11.0</td>\n",
       "      <td>4.0</td>\n",
       "      <td>1.0</td>\n",
       "    </tr>\n",
       "    <tr>\n",
       "      <th>4</th>\n",
       "      <td>ff87641bd</td>\n",
       "      <td>0</td>\n",
       "      <td>9</td>\n",
       "      <td>10</td>\n",
       "      <td>0</td>\n",
       "      <td>5.0</td>\n",
       "      <td>27.0</td>\n",
       "      <td>20201106.0</td>\n",
       "      <td>20201102.0</td>\n",
       "      <td>32.0</td>\n",
       "      <td>7.0</td>\n",
       "      <td>3.0</td>\n",
       "      <td>20201106.0</td>\n",
       "      <td>20201102.0</td>\n",
       "      <td>28.0</td>\n",
       "      <td>4.0</td>\n",
       "      <td>4.0</td>\n",
       "    </tr>\n",
       "    <tr>\n",
       "      <th>7</th>\n",
       "      <td>0c6b3ece5</td>\n",
       "      <td>0</td>\n",
       "      <td>9</td>\n",
       "      <td>10</td>\n",
       "      <td>0</td>\n",
       "      <td>5.0</td>\n",
       "      <td>13.0</td>\n",
       "      <td>20201106.0</td>\n",
       "      <td>20201102.0</td>\n",
       "      <td>14.0</td>\n",
       "      <td>3.0</td>\n",
       "      <td>2.0</td>\n",
       "      <td>20201104.0</td>\n",
       "      <td>20201103.0</td>\n",
       "      <td>3.0</td>\n",
       "      <td>4.0</td>\n",
       "      <td>2.0</td>\n",
       "    </tr>\n",
       "    <tr>\n",
       "      <th>8</th>\n",
       "      <td>f84f63623</td>\n",
       "      <td>1</td>\n",
       "      <td>9</td>\n",
       "      <td>6</td>\n",
       "      <td>1</td>\n",
       "      <td>4.0</td>\n",
       "      <td>16.0</td>\n",
       "      <td>20201105.0</td>\n",
       "      <td>20201102.0</td>\n",
       "      <td>18.0</td>\n",
       "      <td>2.0</td>\n",
       "      <td>2.0</td>\n",
       "      <td>20201104.0</td>\n",
       "      <td>20201103.0</td>\n",
       "      <td>25.0</td>\n",
       "      <td>3.0</td>\n",
       "      <td>2.0</td>\n",
       "    </tr>\n",
       "  </tbody>\n",
       "</table>\n",
       "</div>"
      ],
      "text/plain": [
       "        guid  lapse_flag  architecture  sys_major  sys_sp  start_date_num  \\\n",
       "2  ece6d70e8           0             9          6       1             5.0   \n",
       "3  45dd78247           0             9         10       0             5.0   \n",
       "4  ff87641bd           0             9         10       0             5.0   \n",
       "7  0c6b3ece5           0             9         10       0             5.0   \n",
       "8  f84f63623           1             9          6       1             4.0   \n",
       "\n",
       "   normal_start_num  last_start_date  first_start_date  user_start_num  \\\n",
       "2              22.0       20201106.0        20201102.0            26.0   \n",
       "3               5.0       20201106.0        20201102.0            13.0   \n",
       "4              27.0       20201106.0        20201102.0            32.0   \n",
       "7              13.0       20201106.0        20201102.0            14.0   \n",
       "8              16.0       20201105.0        20201102.0            18.0   \n",
       "\n",
       "   func_detail_num  use_func_date  last_func_date  first_func_date  \\\n",
       "2             11.0            4.0      20201105.0       20201102.0   \n",
       "3              6.0            2.0      20201103.0       20201102.0   \n",
       "4              7.0            3.0      20201106.0       20201102.0   \n",
       "7              3.0            2.0      20201104.0       20201103.0   \n",
       "8              2.0            2.0      20201104.0       20201103.0   \n",
       "\n",
       "   use_func_num  start_recency  func_recency  \n",
       "2          31.0            4.0           3.0  \n",
       "3          11.0            4.0           1.0  \n",
       "4          28.0            4.0           4.0  \n",
       "7           3.0            4.0           2.0  \n",
       "8          25.0            3.0           2.0  "
      ]
     },
     "execution_count": 17,
     "metadata": {},
     "output_type": "execute_result"
    }
   ],
   "source": [
    "lapse.head()"
   ]
  },
  {
   "cell_type": "code",
   "execution_count": 18,
   "id": "b359438a",
   "metadata": {},
   "outputs": [],
   "source": [
    "# 为了避免数字本身的影响，将数值型变量sys_major转为类别型变量\n",
    "lapse['sys_major'] = lapse['sys_major'].astype('category')"
   ]
  },
  {
   "cell_type": "code",
   "execution_count": 19,
   "id": "fcb03811",
   "metadata": {},
   "outputs": [],
   "source": [
    "# 将编码后的结果存储在新建的变量sys_encode中\n",
    "sys_encode = LabelEncoder()"
   ]
  },
  {
   "cell_type": "code",
   "execution_count": 20,
   "id": "771c293d",
   "metadata": {},
   "outputs": [],
   "source": [
    "# 拟合并转化sys_major中的数据\n",
    "lapse['sys_major'] = sys_encode.fit_transform(lapse.sys_major)"
   ]
  },
  {
   "cell_type": "code",
   "execution_count": 21,
   "id": "6fe2bad2",
   "metadata": {},
   "outputs": [
    {
     "data": {
      "text/plain": [
       "array([1, 2, 0])"
      ]
     },
     "execution_count": 21,
     "metadata": {},
     "output_type": "execute_result"
    }
   ],
   "source": [
    "# 查看sys_major中不重复的版本号\n",
    "lapse.sys_major.unique()"
   ]
  },
  {
   "cell_type": "code",
   "execution_count": 22,
   "id": "155a564b",
   "metadata": {},
   "outputs": [],
   "source": [
    "# 用one hot coding来处理architecture\n",
    "from sklearn.preprocessing import OneHotEncoder"
   ]
  },
  {
   "cell_type": "code",
   "execution_count": 23,
   "id": "ad55d0a6",
   "metadata": {},
   "outputs": [
    {
     "data": {
      "text/html": [
       "<div>\n",
       "<style scoped>\n",
       "    .dataframe tbody tr th:only-of-type {\n",
       "        vertical-align: middle;\n",
       "    }\n",
       "\n",
       "    .dataframe tbody tr th {\n",
       "        vertical-align: top;\n",
       "    }\n",
       "\n",
       "    .dataframe thead th {\n",
       "        text-align: right;\n",
       "    }\n",
       "</style>\n",
       "<table border=\"1\" class=\"dataframe\">\n",
       "  <thead>\n",
       "    <tr style=\"text-align: right;\">\n",
       "      <th></th>\n",
       "      <th>guid</th>\n",
       "      <th>lapse_flag</th>\n",
       "      <th>architecture</th>\n",
       "      <th>sys_major</th>\n",
       "      <th>sys_sp</th>\n",
       "      <th>start_date_num</th>\n",
       "      <th>normal_start_num</th>\n",
       "      <th>last_start_date</th>\n",
       "      <th>first_start_date</th>\n",
       "      <th>user_start_num</th>\n",
       "      <th>func_detail_num</th>\n",
       "      <th>use_func_date</th>\n",
       "      <th>last_func_date</th>\n",
       "      <th>first_func_date</th>\n",
       "      <th>use_func_num</th>\n",
       "      <th>start_recency</th>\n",
       "      <th>func_recency</th>\n",
       "      <th>arc_0</th>\n",
       "      <th>arc_1</th>\n",
       "    </tr>\n",
       "  </thead>\n",
       "  <tbody>\n",
       "    <tr>\n",
       "      <th>0</th>\n",
       "      <td>NaN</td>\n",
       "      <td>NaN</td>\n",
       "      <td>NaN</td>\n",
       "      <td>NaN</td>\n",
       "      <td>NaN</td>\n",
       "      <td>NaN</td>\n",
       "      <td>NaN</td>\n",
       "      <td>NaN</td>\n",
       "      <td>NaN</td>\n",
       "      <td>NaN</td>\n",
       "      <td>NaN</td>\n",
       "      <td>NaN</td>\n",
       "      <td>NaN</td>\n",
       "      <td>NaN</td>\n",
       "      <td>NaN</td>\n",
       "      <td>NaN</td>\n",
       "      <td>NaN</td>\n",
       "      <td>0.0</td>\n",
       "      <td>1.0</td>\n",
       "    </tr>\n",
       "    <tr>\n",
       "      <th>1</th>\n",
       "      <td>NaN</td>\n",
       "      <td>NaN</td>\n",
       "      <td>NaN</td>\n",
       "      <td>NaN</td>\n",
       "      <td>NaN</td>\n",
       "      <td>NaN</td>\n",
       "      <td>NaN</td>\n",
       "      <td>NaN</td>\n",
       "      <td>NaN</td>\n",
       "      <td>NaN</td>\n",
       "      <td>NaN</td>\n",
       "      <td>NaN</td>\n",
       "      <td>NaN</td>\n",
       "      <td>NaN</td>\n",
       "      <td>NaN</td>\n",
       "      <td>NaN</td>\n",
       "      <td>NaN</td>\n",
       "      <td>0.0</td>\n",
       "      <td>1.0</td>\n",
       "    </tr>\n",
       "    <tr>\n",
       "      <th>2</th>\n",
       "      <td>ece6d70e8</td>\n",
       "      <td>0.0</td>\n",
       "      <td>9.0</td>\n",
       "      <td>1.0</td>\n",
       "      <td>1.0</td>\n",
       "      <td>5.0</td>\n",
       "      <td>22.0</td>\n",
       "      <td>20201106.0</td>\n",
       "      <td>20201102.0</td>\n",
       "      <td>26.0</td>\n",
       "      <td>11.0</td>\n",
       "      <td>4.0</td>\n",
       "      <td>20201105.0</td>\n",
       "      <td>20201102.0</td>\n",
       "      <td>31.0</td>\n",
       "      <td>4.0</td>\n",
       "      <td>3.0</td>\n",
       "      <td>0.0</td>\n",
       "      <td>1.0</td>\n",
       "    </tr>\n",
       "    <tr>\n",
       "      <th>3</th>\n",
       "      <td>45dd78247</td>\n",
       "      <td>0.0</td>\n",
       "      <td>9.0</td>\n",
       "      <td>2.0</td>\n",
       "      <td>0.0</td>\n",
       "      <td>5.0</td>\n",
       "      <td>5.0</td>\n",
       "      <td>20201106.0</td>\n",
       "      <td>20201102.0</td>\n",
       "      <td>13.0</td>\n",
       "      <td>6.0</td>\n",
       "      <td>2.0</td>\n",
       "      <td>20201103.0</td>\n",
       "      <td>20201102.0</td>\n",
       "      <td>11.0</td>\n",
       "      <td>4.0</td>\n",
       "      <td>1.0</td>\n",
       "      <td>0.0</td>\n",
       "      <td>1.0</td>\n",
       "    </tr>\n",
       "    <tr>\n",
       "      <th>4</th>\n",
       "      <td>ff87641bd</td>\n",
       "      <td>0.0</td>\n",
       "      <td>9.0</td>\n",
       "      <td>2.0</td>\n",
       "      <td>0.0</td>\n",
       "      <td>5.0</td>\n",
       "      <td>27.0</td>\n",
       "      <td>20201106.0</td>\n",
       "      <td>20201102.0</td>\n",
       "      <td>32.0</td>\n",
       "      <td>7.0</td>\n",
       "      <td>3.0</td>\n",
       "      <td>20201106.0</td>\n",
       "      <td>20201102.0</td>\n",
       "      <td>28.0</td>\n",
       "      <td>4.0</td>\n",
       "      <td>4.0</td>\n",
       "      <td>0.0</td>\n",
       "      <td>1.0</td>\n",
       "    </tr>\n",
       "  </tbody>\n",
       "</table>\n",
       "</div>"
      ],
      "text/plain": [
       "        guid  lapse_flag  architecture  sys_major  sys_sp  start_date_num  \\\n",
       "0        NaN         NaN           NaN        NaN     NaN             NaN   \n",
       "1        NaN         NaN           NaN        NaN     NaN             NaN   \n",
       "2  ece6d70e8         0.0           9.0        1.0     1.0             5.0   \n",
       "3  45dd78247         0.0           9.0        2.0     0.0             5.0   \n",
       "4  ff87641bd         0.0           9.0        2.0     0.0             5.0   \n",
       "\n",
       "   normal_start_num  last_start_date  first_start_date  user_start_num  \\\n",
       "0               NaN              NaN               NaN             NaN   \n",
       "1               NaN              NaN               NaN             NaN   \n",
       "2              22.0       20201106.0        20201102.0            26.0   \n",
       "3               5.0       20201106.0        20201102.0            13.0   \n",
       "4              27.0       20201106.0        20201102.0            32.0   \n",
       "\n",
       "   func_detail_num  use_func_date  last_func_date  first_func_date  \\\n",
       "0              NaN            NaN             NaN              NaN   \n",
       "1              NaN            NaN             NaN              NaN   \n",
       "2             11.0            4.0      20201105.0       20201102.0   \n",
       "3              6.0            2.0      20201103.0       20201102.0   \n",
       "4              7.0            3.0      20201106.0       20201102.0   \n",
       "\n",
       "   use_func_num  start_recency  func_recency  arc_0  arc_1  \n",
       "0           NaN            NaN           NaN    0.0    1.0  \n",
       "1           NaN            NaN           NaN    0.0    1.0  \n",
       "2          31.0            4.0           3.0    0.0    1.0  \n",
       "3          11.0            4.0           1.0    0.0    1.0  \n",
       "4          28.0            4.0           4.0    0.0    1.0  "
      ]
     },
     "execution_count": 23,
     "metadata": {},
     "output_type": "execute_result"
    }
   ],
   "source": [
    "# 将编码后的结果存储在新建的变量arc_one_hot中\n",
    "arc_one_hot = OneHotEncoder()\n",
    "arc_one_hot_encode = arc_one_hot.fit_transform(lapse.architecture.values.reshape(-1,1)).toarray()\n",
    "ohe_variable = pd.DataFrame(arc_one_hot_encode, \n",
    "                            columns = [\"arc_\"+str(int(i)) \n",
    "                                       for i in range(arc_one_hot_encode.shape[1])])\n",
    "lapse = pd.concat([lapse, ohe_variable], axis=1)\n",
    "# 查看数据的具体变化\n",
    "lapse.head()"
   ]
  },
  {
   "cell_type": "code",
   "execution_count": 24,
   "id": "262269a5",
   "metadata": {},
   "outputs": [],
   "source": [
    "# 把不相关的变量删除\n",
    "lapse=lapse.drop(['last_start_date','first_start_date',\n",
    "                  'last_func_date','first_func_date','architecture','sys_sp'],axis=1)"
   ]
  },
  {
   "cell_type": "code",
   "execution_count": 25,
   "id": "23b47488",
   "metadata": {},
   "outputs": [],
   "source": [
    "##建模前\n",
    "y=lapse['lapse_flag']     #提取因变量\n",
    "X=lapse.drop(['guid','lapse_flag'],axis=1)\n",
    "# 填充X、y中的空值\n",
    "X=X.fillna(0)\n",
    "y=y.fillna(0)"
   ]
  },
  {
   "cell_type": "code",
   "execution_count": 26,
   "id": "f4b9cdf7",
   "metadata": {},
   "outputs": [],
   "source": [
    "# 模型训练\n",
    "from sklearn.model_selection import train_test_split\n",
    "X_train, X_test, y_train, y_test = train_test_split(X, y,test_size=0.3, random_state = 100)"
   ]
  },
  {
   "cell_type": "code",
   "execution_count": 27,
   "id": "5db30e83",
   "metadata": {},
   "outputs": [],
   "source": [
    "# 构建决策树\n",
    "from sklearn import tree\n",
    "from sklearn.tree import DecisionTreeClassifier"
   ]
  },
  {
   "cell_type": "code",
   "execution_count": 28,
   "id": "42a6b389",
   "metadata": {},
   "outputs": [],
   "source": [
    "# 设置各项模型核心参数\n",
    "dt = DecisionTreeClassifier(max_depth=3\n",
    "                            ,min_samples_leaf=100\n",
    "                            ,random_state=100)"
   ]
  },
  {
   "cell_type": "code",
   "execution_count": 29,
   "id": "4397677f",
   "metadata": {},
   "outputs": [],
   "source": [
    "# 拟合模型\n",
    "dt = dt.fit(X_train, y_train)"
   ]
  },
  {
   "cell_type": "code",
   "execution_count": 31,
   "id": "0e237000",
   "metadata": {},
   "outputs": [
    {
     "name": "stdout",
     "output_type": "stream",
     "text": [
      "0.873724974056544\n",
      "0.8735900312998287\n"
     ]
    }
   ],
   "source": [
    "# 给训练集的精度打分\n",
    "dt_score_train=dt.score(X_train, y_train)\n",
    "# 给测试集的精度打分\n",
    "dt_score_test=dt.score(X_test, y_test)\n",
    "print(dt_score_train)\n",
    "print(dt_score_test)"
   ]
  },
  {
   "cell_type": "code",
   "execution_count": 32,
   "id": "a08024d8",
   "metadata": {},
   "outputs": [],
   "source": [
    "# 导入网格搜索模块\n",
    "from sklearn.model_selection import GridSearchCV"
   ]
  },
  {
   "cell_type": "code",
   "execution_count": 34,
   "id": "44010e5a",
   "metadata": {},
   "outputs": [],
   "source": [
    "# 设置参数\n",
    "grid_params = {\n",
    "    'max_depth': [1,2,3,4,5,6],\n",
    "    'min_samples_leaf': [50,80,100,120]\n",
    "}\n",
    "grid_object = GridSearchCV(estimator = dt, param_grid = grid_params, scoring = 'accuracy', cv = 10, n_jobs = -1)"
   ]
  },
  {
   "cell_type": "code",
   "execution_count": 35,
   "id": "d2666d6f",
   "metadata": {},
   "outputs": [
    {
     "data": {
      "text/plain": [
       "GridSearchCV(cv=10,\n",
       "             estimator=DecisionTreeClassifier(max_depth=3, min_samples_leaf=100,\n",
       "                                              random_state=100),\n",
       "             n_jobs=-1,\n",
       "             param_grid={'max_depth': [1, 2, 3, 4, 5, 6],\n",
       "                         'min_samples_leaf': [50, 80, 100, 120]},\n",
       "             scoring='accuracy')"
      ]
     },
     "execution_count": 35,
     "metadata": {},
     "output_type": "execute_result"
    }
   ],
   "source": [
    "# 再次拟合模型\n",
    "grid_object.fit(X_train, y_train)"
   ]
  },
  {
   "cell_type": "code",
   "execution_count": 36,
   "id": "5938a1e6",
   "metadata": {},
   "outputs": [
    {
     "data": {
      "text/plain": [
       "{'max_depth': 5, 'min_samples_leaf': 100}"
      ]
     },
     "execution_count": 36,
     "metadata": {},
     "output_type": "execute_result"
    }
   ],
   "source": [
    "# 输出最优参数\n",
    "grid_object.best_params_"
   ]
  },
  {
   "cell_type": "code",
   "execution_count": 38,
   "id": "1167297d",
   "metadata": {},
   "outputs": [],
   "source": [
    "# 输入最佳参数，再次打分\n",
    "dt = DecisionTreeClassifier(max_depth=5\n",
    "                            ,min_samples_leaf=100\n",
    "                            ,random_state=100)\n",
    "dt = dt.fit(X_train, y_train)"
   ]
  },
  {
   "cell_type": "code",
   "execution_count": 39,
   "id": "c01d0e9a",
   "metadata": {},
   "outputs": [
    {
     "name": "stdout",
     "output_type": "stream",
     "text": [
      "0.87626869827128\n",
      "0.8756570011220693\n"
     ]
    }
   ],
   "source": [
    "dt_score_train=dt.score(X_train, y_train)  \n",
    "dt_score_test=dt.score(X_test, y_test)\n",
    "print(dt_score_train)\n",
    "print(dt_score_test)"
   ]
  }
 ],
 "metadata": {
  "kernelspec": {
   "display_name": "Python 3",
   "language": "python",
   "name": "python3"
  },
  "language_info": {
   "codemirror_mode": {
    "name": "ipython",
    "version": 3
   },
   "file_extension": ".py",
   "mimetype": "text/x-python",
   "name": "python",
   "nbconvert_exporter": "python",
   "pygments_lexer": "ipython3",
   "version": "3.6.13"
  }
 },
 "nbformat": 4,
 "nbformat_minor": 5
}
